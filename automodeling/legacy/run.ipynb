{
 "cells": [
  {
   "cell_type": "markdown",
   "id": "28dc212f-0802-4738-ab9e-f0b87b14e97b",
   "metadata": {},
   "source": [
    "## Overview\n",
    "This jupyter notebook is to run through the pipeline step by step without needing to redo previous steps each time. This script can be run by first installing the requirements.txt file and then running `jupyter lab`in the terminal. "
   ]
  },
  {
   "cell_type": "markdown",
   "id": "17af668b-b740-4015-a40e-08eab22aed48",
   "metadata": {},
   "source": [
    "#### Imports\n",
    "We add the project root dir to system path "
   ]
  },
  {
   "cell_type": "code",
   "execution_count": 1,
   "id": "df20745b-c826-40c8-b0a6-63409cef07cb",
   "metadata": {},
   "outputs": [],
   "source": [
    "import sys\n",
    "import os\n",
    "sys.path.append(os.path.abspath(\"../..\"))"
   ]
  },
  {
   "cell_type": "code",
   "execution_count": 2,
   "id": "a34f3cfe-99d1-4663-8293-317d80df5230",
   "metadata": {},
   "outputs": [],
   "source": [
    "from src.legacy.clean_md import clean_page\n",
    "from src.legacy.simplify_toc import simplify_table_of_contents\n",
    "from src.legacy.convert_page_to_snippet import convert_page_to_snippets\n",
    "from src.legacy.snippet_to_ontology import extract_ontology_from_next_snippet\n",
    "from src.legacy.inject_ontology_to_snippet import inject_ontology_into_snippet\n",
    "from src.legacy.convert_snippet_to_lap import convert_snippet_to_lap_simple\n",
    "from src.legacy.harmnize_lap import harmonize_declarations\n",
    "from src.legacy.apply_ontology import apply_ontology_to_lap\n",
    "from src.legacy.convert_lap_to_json import convert_lap_to_json\n",
    "from src.legacy.get_graph import get_graph\n",
    "from src.legacy.assemble_clauses import assemble_clauses\n",
    "from src.legacy.llm import LLM"
   ]
  },
  {
   "cell_type": "markdown",
   "id": "89660cb6-916e-45a4-8869-44ddb77e0f4b",
   "metadata": {},
   "source": [
    "#### Dummy data\n",
    "Hard coded data including 2 pages for testing"
   ]
  },
  {
   "cell_type": "code",
   "execution_count": 3,
   "id": "8778c6c8-876c-4ded-81d6-b33e8c06ea91",
   "metadata": {},
   "outputs": [],
   "source": [
    "p1 = \"\"\"CONTENTS\n",
    "Motor Breakdown Insurance Policy & Summary\n",
    "A – Policy wording 3\n",
    "Breakdown Causes 8\n",
    "SECTION A – AXA LOCAL 9\n",
    "SECTION B – AXA NATIONWIDE 10\n",
    "SECTION C – AXA NATIONWIDE & HOMESTART 11\n",
    "SECTION A, B, C – MISFUELLING 12\n",
    "SECTION D – AXA EUROPEAN 13\n",
    "SECTION E – GENERAL EXCLUSIONS THAT APPLY TO ALL PARTS 17 OF THIS POLICY\n",
    "SECTION F – GENERAL CONDITIONS APPLYING TO ALL PARTS 20 OF THIS POLICY\n",
    "B – Policy summary 26 AXA BREAKDOWN COVER POLICY SUMMARY 26\"\"\"\n",
    "\n",
    "p2 = \"\"\"A – Policy wording STATUS\n",
    "This policy is provided on behalf of AXA Insurance by AXA Assistance (UK) Ltd. AXA Assistance (UK) Limited is authorised and regulated by\n",
    "the Financial Conduct Authority. AXA Assistance (UK) Limited’s firm register number is 439069. You can check this on the Financial Services Register by visiting\n",
    "the website www.fca.org.uk/ register. Its registered office is at The Quadrangle, 106-118 Station Road, Redhill, Surrey, RH1 1PR. It is registered in England under company number 02638890.\n",
    "This policy is underwritten by Inter Partner Assistance SA UK Branch\n",
    "(IPA) which is fully owned by the\n",
    "AXA Assistance Group. Inter Partner Assistance is a Belgian firm authorised by the National Bank of Belgium and subject to limited regulation by the Financial Conduct Authority. Details about the extent of its regulation by the Financial Conduct Authority are available from us on request. Inter Partner Assistance SA’s register number is 202664. You can check this on the Financial Services Register by visiting the website www.fca.org.uk/register.\n",
    "AXA Assistance (UK) Limited operates the 24-hour motoring assistance helpline.\n",
    "This insurance is governed by the laws of England and Wales.\n",
    "IMPORTANT INFORMATION\n",
    "This document sets out the terms and conditions of your cover and it is important that you read it carefully. There are different levels of cover available. The cover you hold will be set out in the accompanying policy schedule. If changes are made, these will be confirmed to you separately in writing.\n",
    "Each section of cover explains what\n",
    "is and is not covered. There are also general exclusions (things that are not included) that apply to all sections\n",
    "of the cover, and there are general conditions that you must follow so you are entitled to the cover.\n",
    "CANCELLATION\n",
    "If you find that the cover provided under this policy does not meet your needs, please contact us on 0800 169 0206 within 14 days of receiving this document and we will cancel this policy.\n",
    "You will receive a full refund of your premium as long as you have not made any claims.\n",
    "If you cancel the policy outside the 14-day period, as long as you have not made any claims, you will receive a refund of your premium for the\n",
    "Motor Breakdown Insurance Policy & Summary\n",
    " 3\n",
    "Policy wording continued\n",
    "amount of time left to run on the policy, less an administrative charge of £15.\n",
    "We may cancel this policy by giving you at least 14 days’ written notice at your last-known address if:\n",
    " you fail to pay the premiums after we have sent you a reminder to\n",
    "do so. If we have been unable to collect a premium payment, we will contact you in writing requesting payment to be made by a specific date. If we do not receive payment by this date we will cancel your policy by immediate effect and notify you in writing that such cancellation has taken place;\n",
    " you refuse to allow us reasonable access to your vehicle to provide the services you have asked for under this policy or if you fail to co- operate with our representatives;\n",
    " you otherwise stop keeping to the terms and conditions of this policy in any significant way; or\n",
    " the cost of providing this policy becomes prohibitive.\n",
    "We may cancel this policy without giving you notice if, by law or other reason, we are prevented from providing it.\n",
    "If we cancel the policy under this section, we will refund the\n",
    "premium paid for the remaining period of insurance, unless you have made any claims. We can refuse to renew any individual policy.\n",
    "We may cancel this policy without giving you notice and without refunding your premium if you:\n",
    " make or try to make a fraudulent claim under your policy;\n",
    " are abusive or threatening towards our staff; or\n",
    " repeatedly or seriously break the terms of this policy.\n",
    "If you make a valid claim before the policy is cancelled, we will pay the claim before we cancel the policy.\n",
    "MEANING OF WORDS\n",
    "Wherever the following words\n",
    "and phrases appear in bold in this document, they will always have the following meanings.\n",
    "1. We, us, our\n",
    "Inter Partner Assistance SA and AXA Assistance (UK Branch) Ltd both of The Quadrangle, 106-118 Station Road, Redhill, Surrey, RH1 1PR, UK.\n",
    "2. Vehicle policy\n",
    "This policy covers breakdown assistance for the specific vehicle\n",
    "(or vehicles) shown on your policy schedule. These are the only vehicles that this cover applies to.\n",
    "\"\"\""
   ]
  },
  {
   "cell_type": "code",
   "execution_count": 4,
   "id": "46b1f133-a0dc-45f1-876a-a92281f1576d",
   "metadata": {},
   "outputs": [],
   "source": [
    "md = [p1, p2]"
   ]
  },
  {
   "cell_type": "markdown",
   "id": "f429522b-db0d-42ef-a8b0-ff5aa0fa6940",
   "metadata": {},
   "source": [
    "#### Get table of contents"
   ]
  },
  {
   "cell_type": "code",
   "execution_count": 5,
   "id": "46ceab86-2fa7-4f56-b30b-ff28a5699913",
   "metadata": {},
   "outputs": [
    {
     "name": "stdout",
     "output_type": "stream",
     "text": [
      "# A\n",
      "## Policy wording\n",
      "## Breakdown Causes\n",
      "## SECTION A – AXA LOCAL\n",
      "## SECTION B – AXA NATIONWIDE\n",
      "## SECTION C – AXA NATIONWIDE & HOMESTART\n",
      "## SECTION A, B, C – MISFUELLING\n",
      "## SECTION D – AXA EUROPEAN\n",
      "## SECTION E – GENERAL EXCLUSIONS\n",
      "## SECTION F – GENERAL CONDITIONS\n",
      "# B\n",
      "## Policy summary AXA BREAKDOWN COVER POLICY SUMMARY\n"
     ]
    }
   ],
   "source": [
    "toc = simplify_table_of_contents(md[0], LLM)\n",
    "print(toc)"
   ]
  },
  {
   "cell_type": "markdown",
   "id": "34ae54fe-63f7-441a-a5d5-4ee757f6ccae",
   "metadata": {},
   "source": [
    "#### Go through pipeline steps on first page "
   ]
  },
  {
   "cell_type": "code",
   "execution_count": 6,
   "id": "8b033a53-3ea8-421a-b864-88cd47ed5fb8",
   "metadata": {},
   "outputs": [
    {
     "name": "stdout",
     "output_type": "stream",
     "text": [
      "# A\n",
      "## Policy wording\n",
      "\n",
      "### STATUS\n",
      "This policy is provided on behalf of AXA Insurance by AXA Assistance (UK) Ltd. AXA Assistance (UK) Limited is authorised and regulated by the Financial Conduct Authority. AXA Assistance (UK) Limited's firm register number is 439069. You can check this on the Financial Services Register by visiting the website www.fca.org.uk/register. Its registered office is at The Quadrangle, 106-118 Station Road, Redhill, Surrey, RH1 1PR. It is registered in England under company number 02638890.\n",
      "\n",
      "This policy is underwritten by Inter Partner Assistance SA UK Branch (IPA) which is fully owned by the AXA Assistance Group. Inter Partner Assistance is a Belgian firm authorised by the National Bank of Belgium and subject to limited regulation by the Financial Conduct Authority. Details about the extent of its regulation by the Financial Conduct Authority are available from us on request. Inter Partner Assistance SA's register number is 202664. You can check this on the Financial Services Register by visiting the website www.fca.org.uk/register.\n",
      "\n",
      "AXA Assistance (UK) Limited operates the 24-hour motoring assistance helpline.\n",
      "\n",
      "This insurance is governed by the laws of England and Wales.\n",
      "\n",
      "### IMPORTANT INFORMATION\n",
      "This document sets out the terms and conditions of your cover and it is important that you read it carefully. There are different levels of cover available. The cover you hold will be set out in the accompanying policy schedule. If changes are made, these will be confirmed to you separately in writing.\n",
      "\n",
      "Each section of cover explains what is and is not covered. There are also general exclusions (things that are not included) that apply to all sections of the cover, and there are general conditions that you must follow so you are entitled to the cover.\n",
      "\n",
      "### CANCELLATION\n",
      "If you find that the cover provided under this policy does not meet your needs, please contact us on 0800 169 0206 within 14 days of receiving this document and we will cancel this policy. You will receive a full refund of your premium as long as you have not made any claims.\n",
      "\n",
      "If you cancel the policy outside the 14-day period, as long as you have not made any claims, you will receive a refund of your premium for the Motor Breakdown Insurance Policy & Summary.\n",
      "\n",
      "### Policy wording continued\n",
      "If you cancel the policy outside the 14-day period, as long as you have not made any claims, you will receive a refund of your premium for the amount of time left to run on the policy, less an administrative charge of £15.\n",
      "\n",
      "We may cancel this policy by giving you at least 14 days' written notice at your last-known address if:\n",
      "\n",
      "- you fail to pay the premiums after we have sent you a reminder to do so. If we have been unable to collect a premium payment, we will contact you in writing requesting payment to be made by a specific date. If we do not receive payment by this date we will cancel your policy by immediate effect and notify you in writing that such cancellation has taken place;\n",
      "- you refuse to allow us reasonable access to your vehicle to provide the services you have asked for under this policy or if you fail to co-operate with our representatives;\n",
      "- you otherwise stop keeping to the terms and conditions of this policy in any significant way; or\n",
      "- the cost of providing this policy becomes prohibitive.\n",
      "\n",
      "We may cancel this policy without giving you notice if, by law or other reason, we are prevented from providing it.\n",
      "\n",
      "If we cancel the policy under this section, we will refund the premium paid for the remaining period of insurance, unless you have made any claims. We can refuse to renew any individual policy.\n",
      "\n",
      "We may cancel this policy without giving you notice and without refunding your premium if you:\n",
      "\n",
      "- make or try to make a fraudulent claim under your policy;\n",
      "- are abusive or threatening towards our staff; or\n",
      "- repeatedly or seriously break the terms of this policy.\n",
      "\n",
      "If you make a valid claim before the policy is cancelled, we will pay the claim before we cancel the policy.\n",
      "\n",
      "### MEANING OF WORDS\n",
      "Wherever the following words and phrases appear in bold in this document, they will always have the following meanings.\n",
      "\n",
      "1. We, us, our\n",
      "Inter Partner Assistance SA and AXA Assistance (UK Branch) Ltd both of The Quadrangle, 106-118 Station Road, Redhill, Surrey, RH1 1PR, UK.\n",
      "\n",
      "2. Vehicle policy\n",
      "This policy covers breakdown assistance for the specific vehicle (or vehicles) shown on your policy schedule. These are the only vehicles that this cover applies to.\n"
     ]
    }
   ],
   "source": [
    "cleaned_page = clean_page(md[1], toc, LLM)\n",
    "print(cleaned_page)"
   ]
  },
  {
   "cell_type": "code",
   "execution_count": 7,
   "id": "0500385b-0026-40e7-a571-fd440530dfcc",
   "metadata": {},
   "outputs": [],
   "source": [
    "snippets = convert_page_to_snippets(cleaned_page)"
   ]
  },
  {
   "cell_type": "code",
   "execution_count": 8,
   "id": "15d3e28b-739a-4def-90b0-0a0437046bab",
   "metadata": {},
   "outputs": [
    {
     "name": "stdout",
     "output_type": "stream",
     "text": [
      "# A\n",
      "## Policy wording\n",
      "### MEANING OF WORDS\n",
      "Wherever the following words and phrases appear in bold in this document, they will always have the following meanings.\n",
      "\n",
      "1. We, us, our\n",
      "Inter Partner Assistance SA and AXA Assistance (UK Branch) Ltd both of The Quadrangle, 106-118 Station Road, Redhill, Surrey, RH1 1PR, UK.\n",
      "\n",
      "2. Vehicle policy\n",
      "This policy covers breakdown assistance for the specific vehicle (or vehicles) shown on your policy schedule. These are the only vehicles that this cover applies to.\n"
     ]
    }
   ],
   "source": [
    "snippet = snippets[4]\n",
    "print(snippet)"
   ]
  },
  {
   "cell_type": "code",
   "execution_count": 9,
   "id": "eb1d94ab-9bc5-4181-a1b2-9ba196b648fb",
   "metadata": {},
   "outputs": [],
   "source": [
    "ontologies = extract_ontology_from_next_snippet(snippet, LLM)"
   ]
  },
  {
   "cell_type": "code",
   "execution_count": 10,
   "id": "d296537f-504e-408c-b2a4-4162ff413f67",
   "metadata": {},
   "outputs": [
    {
     "name": "stdout",
     "output_type": "stream",
     "text": [
      "[{'word': 'We, us, our', 'definition': 'Inter Partner Assistance SA and AXA Assistance (UK Branch) Ltd both of The Quadrangle, 106-118 Station Road, Redhill, Surrey, RH1 1PR, UK.', 'scope': 'MEANING OF WORDS'}, {'word': 'Vehicle policy', 'definition': 'This policy covers breakdown assistance for the specific vehicle (or vehicles) shown on your policy schedule. These are the only vehicles that this cover applies to.', 'scope': 'MEANING OF WORDS'}]\n"
     ]
    }
   ],
   "source": [
    "print(ontologies)"
   ]
  },
  {
   "cell_type": "code",
   "execution_count": 11,
   "id": "3a33b544-79f7-4ec5-9976-9a12536659f1",
   "metadata": {},
   "outputs": [],
   "source": [
    "snippet = \"We, us, our will cover the car until 2000 chf\""
   ]
  },
  {
   "cell_type": "code",
   "execution_count": 12,
   "id": "4d20e139-b46b-47ec-9669-57a18f6a8a9d",
   "metadata": {},
   "outputs": [
    {
     "name": "stdout",
     "output_type": "stream",
     "text": [
      "\n",
      "We, us, our means Inter Partner Assistance SA and AXA Assistance (UK Branch) Ltd both of The Quadrangle, 106-118 Station Road, Redhill, Surrey, RH1 1PR, UK. with scope MEANING OF WORDS\n",
      "\n",
      "We, us, our will cover the car until 2000 chf\n"
     ]
    }
   ],
   "source": [
    "snippet_with_ontology = inject_ontology_into_snippet(snippet, ontologies)\n",
    "print(snippet_with_ontology)"
   ]
  },
  {
   "cell_type": "code",
   "execution_count": 25,
   "id": "fc51da8d-87ef-4ccc-8238-c7e74033c614",
   "metadata": {},
   "outputs": [],
   "source": [
    "lap = convert_snippet_to_lap_simple(snippet, ontologies, LLM)"
   ]
  },
  {
   "cell_type": "code",
   "execution_count": 26,
   "id": "3b9f1cc4-6570-4fa4-b902-076f74594f1a",
   "metadata": {},
   "outputs": [
    {
     "name": "stdout",
     "output_type": "stream",
     "text": [
      "[{'word': 'We, us, our', 'definition': 'The insurance company providing the coverage.', 'scope': 'MEANING OF WORDS'}, '(COVERED_OBJECT=\"Car\") THEN LIMIT{amount:2000, unit:chf, per:claim}']\n"
     ]
    }
   ],
   "source": [
    "print(lap)"
   ]
  },
  {
   "cell_type": "code",
   "execution_count": 27,
   "id": "e639a581-f7df-4fa2-8a55-01c29621c7ff",
   "metadata": {},
   "outputs": [],
   "source": [
    "import json\n",
    "from llama_index.llms import ChatMessage\n",
    "\n",
    "\n",
    "HARMONIZED_ONTOLOGY = [\n",
    "    {\n",
    "       \"name\": \"TRIGGER_EVENT\",\n",
    "       \"asktohuman\": \"What triggered the event?\",\n",
    "       \"description\": \"Denote the initiating event or circumstance\",\n",
    "       \"type\": \"enum\",\n",
    "       \"options\": []\n",
    "    },\n",
    "    {\n",
    "        \"name\": \"EVENT\",\n",
    "        \"asktohuman\": \"What was the event?\",\n",
    "        \"description\": \"Specify the actual event or incident\",\n",
    "        \"type\": \"enum\",\n",
    "        \"options\": []\n",
    "    },\n",
    "    {\n",
    "        \"name\": \"DAMAGE\",\n",
    "        \"asktohuman\": \"What damage was caused?\",\n",
    "        \"description\": \"Specify the type or extent of damage\",\n",
    "        \"type\": \"enum\",\n",
    "        \"options\": []\n",
    "    },\n",
    "    {\n",
    "        \"name\": \"IMPACTED_OBJECT\",\n",
    "        \"asktohuman\": \"What object was impacted?\",\n",
    "        \"description\": \"Specify the object or item that sustained damage or was affected\",\n",
    "        \"type\": \"enum\",\n",
    "        \"options\": []\n",
    "    },\n",
    "    {\n",
    "        \"name\": \"SERVICE\",\n",
    "        \"asktohuman\": \"What service is required?\",\n",
    "        \"description\": \"Specify the kind of service or action needed post-event\",\n",
    "        \"type\": \"enum\",\n",
    "        \"options\": []\n",
    "    }\n",
    "]\n",
    "\n",
    "HARMONIZED_ONTOLOGY = json.dumps(HARMONIZED_ONTOLOGY)\n",
    "\n",
    "_SYSTEM_PROMPT = f\"\"\"User will input definitions in json format.\n",
    "Your role is to output one or more entries in order to aggregate iteratively a harmonized ontology.\n",
    "\n",
    "Current ontology is as follows :\n",
    "BEGIN ONTOLOGY\n",
    "{HARMONIZED_ONTOLOGY}\n",
    "END ONTOLOGY\n",
    "\n",
    "Your task is to reformulate this ontology entry if needed through several possibilities :\n",
    "- splitting it into more atomic elements\n",
    "- outputting an existant element if it expresses the same concept or a very similar one\n",
    "- copying an existant element to add a possible option\n",
    "- rewriting a boolean entry containing a reference to a numerical value to a number entry\n",
    "\n",
    "You must respect the entry format and reuse the same wording as much as possible.\"\"\"\n",
    "\n",
    "EXAMPLE_1 = [\n",
    "    ChatMessage(\n",
    "        role=\"user\",\n",
    "        content=json.dumps({\n",
    "            \"name\": \"ACCIDENT\",\n",
    "            \"asktohuman\": \"Was the breakdown caused by an accident?\",\n",
    "            \"description\": \"Denote if the breakdown was caused by an accident\",\n",
    "            \"type\": \"boolean\"\n",
    "        })\n",
    "    ),\n",
    "    ChatMessage(\n",
    "        role=\"assistant\",\n",
    "        content=json.dumps({\n",
    "            \"name\": \"EVENT\",\n",
    "            \"asktohuman\": \"What was the event?\",\n",
    "            \"description\": \"Specify the actual event or incident\",\n",
    "            \"type\": \"enum\",\n",
    "            \"options\": [\"ACCIDENT\"]\n",
    "        })\n",
    "    ),\n",
    "]\n",
    "\n",
    "EXAMPLE_2 = [\n",
    "    ChatMessage(\n",
    "        role=\"user\",\n",
    "        content=json.dumps({\n",
    "            \"name\": \"VEHICLE_HAS_MOT_AND_ROAD_FUND_LICENCE\",\n",
    "            \"asktohuman\": \"Does the vehicle have a current MOT certificate and valid road fund licence or tax disc on display?\",\n",
    "            \"description\": \"Denote if the vehicle has a current MOT certificate and valid road fund licence or tax disc on display\",\n",
    "            \"type\": \"boolean\"\n",
    "        })\n",
    "    ),\n",
    "    ChatMessage(\n",
    "        role=\"assistant\",\n",
    "        content=json.dumps([\n",
    "            {\n",
    "                \"name\": \"VEHICLE_HAS_MOT\",\n",
    "                \"asktohuman\": \"Does the vehicle have a current MOT certificate?\",\n",
    "                \"description\": \"Denote if the vehicle has a current MOT certificate\",\n",
    "                \"type\": \"boolean\"\n",
    "            },\n",
    "            {\n",
    "                \"name\": \"VEHICLE_HAS_ROAD_FUND_LICENCE\",\n",
    "                \"asktohuman\": \"Is there a valid road fund licence or tax disc on display?\",\n",
    "                \"description\": \"Denote if the vehicle has a valid road fund licence or tax disc on display\",\n",
    "                \"type\": \"boolean\"\n",
    "            }\n",
    "        ])\n",
    "    ),\n",
    "]\n",
    "\n",
    "\n",
    "def harmonize_lap(lap, harmonized_ontology, llm):\n",
    "    if not harmonized_ontology:\n",
    "        harmonized_ontology = HARMONIZED_ONTOLOGY\n",
    "\n",
    "    harmonized_lap = []\n",
    "    for lap_item in lap:\n",
    "        harmonized_lap_item = llm.chat([\n",
    "            ChatMessage(role=\"system\", content=_SYSTEM_PROMPT)\n",
    "        ] + EXAMPLE_1 + EXAMPLE_2 + [ChatMessage(role=\"user\", content=json.dumps(lap_item))]\n",
    "        ).message.content\n",
    "        try:\n",
    "            harmonized_lap_item = json.loads(harmonized_lap_item)\n",
    "        except Exception as E:\n",
    "            print(f\"failed to load to json: {harmonized_lap_item}\")\n",
    "            harmonized_lap.append(lap_item)\n",
    "            continue\n",
    "\n",
    "        if isinstance(harmonized_lap_item, list):\n",
    "            if len(harmonized_lap_item) > 1:\n",
    "                harmonized_lap.extend(harmonized_lap_item)\n",
    "                continue\n",
    "            else:\n",
    "                harmonized_lap_item = harmonized_lap_item[0]\n",
    "\n",
    "        new_lap_item = {**lap_item, **harmonized_lap_item}\n",
    "        harmonized_lap.append(new_lap_item)\n",
    "        print(f\"LAP: {lap_item} new LAP: {new_lap_item}\")\n",
    "\n",
    "    return harmonized_lap\n"
   ]
  },
  {
   "cell_type": "code",
   "execution_count": 28,
   "id": "011387b7-fb89-4d1a-ac1c-70ecc8a9d04c",
   "metadata": {},
   "outputs": [
    {
     "data": {
      "text/plain": [
       "[{'word': 'We, us, our',\n",
       "  'definition': 'The insurance company providing the coverage.',\n",
       "  'scope': 'MEANING OF WORDS'},\n",
       " '(COVERED_OBJECT=\"Car\") THEN LIMIT{amount:2000, unit:chf, per:claim}']"
      ]
     },
     "execution_count": 28,
     "metadata": {},
     "output_type": "execute_result"
    }
   ],
   "source": [
    "lap"
   ]
  },
  {
   "cell_type": "code",
   "execution_count": 29,
   "id": "03e26440-4080-4e09-ba67-7bb20cec6e76",
   "metadata": {},
   "outputs": [
    {
     "name": "stdout",
     "output_type": "stream",
     "text": [
      "LAP: {'word': 'We, us, our', 'definition': 'The insurance company providing the coverage.', 'scope': 'MEANING OF WORDS'} new LAP: {'word': 'We, us, our', 'definition': 'The insurance company providing the coverage.', 'scope': 'MEANING OF WORDS', 'name': 'INSURANCE_COMPANY', 'asktohuman': 'Who is the insurance company providing the coverage?', 'description': 'Specify the insurance company providing the coverage', 'type': 'enum', 'options': []}\n",
      "failed to load to json: {\"name\": \"COVERED_OBJECT\", \"asktohuman\": \"What object is covered?\", \"description\": \"Specify the object or item that is covered\", \"type\": \"enum\", \"options\": [\"Car\"]}\n",
      "\n",
      "{\"name\": \"LIMIT\", \"asktohuman\": \"What is the limit?\", \"description\": \"Specify the limit amount, unit, and per claim\", \"type\": \"object\", \"properties\": {\"amount\": {\"type\": \"number\", \"asktohuman\": \"What is the limit amount?\"}, \"unit\": {\"type\": \"enum\", \"options\": [\"chf\"], \"asktohuman\": \"What is the unit of the limit?\"}, \"per\": {\"type\": \"enum\", \"options\": [\"claim\"], \"asktohuman\": \"What is the limit per?\"}}}\n"
     ]
    }
   ],
   "source": [
    "harmonized_lap = harmonize_lap(lap, [], LLM)"
   ]
  },
  {
   "cell_type": "code",
   "execution_count": 31,
   "id": "a8e2d4ff-46f0-4634-9b30-92654126fe0e",
   "metadata": {},
   "outputs": [
    {
     "data": {
      "text/plain": [
       "[{'word': 'We, us, our',\n",
       "  'definition': 'The insurance company providing the coverage.',\n",
       "  'scope': 'MEANING OF WORDS',\n",
       "  'name': 'INSURANCE_COMPANY',\n",
       "  'asktohuman': 'Who is the insurance company providing the coverage?',\n",
       "  'description': 'Specify the insurance company providing the coverage',\n",
       "  'type': 'enum',\n",
       "  'options': []},\n",
       " '(COVERED_OBJECT=\"Car\") THEN LIMIT{amount:2000, unit:chf, per:claim}']"
      ]
     },
     "execution_count": 31,
     "metadata": {},
     "output_type": "execute_result"
    }
   ],
   "source": [
    "harmonized_lap"
   ]
  },
  {
   "cell_type": "code",
   "execution_count": 32,
   "id": "d5e951ed-dab9-4b6c-980c-a47a01cdfd87",
   "metadata": {},
   "outputs": [
    {
     "ename": "JSONDecodeError",
     "evalue": "Expecting value: line 1 column 1 (char 0)",
     "output_type": "error",
     "traceback": [
      "\u001b[0;31m---------------------------------------------------------------------------\u001b[0m",
      "\u001b[0;31mJSONDecodeError\u001b[0m                           Traceback (most recent call last)",
      "Cell \u001b[0;32mIn[32], line 1\u001b[0m\n\u001b[0;32m----> 1\u001b[0m harmonized_lap_with_ontology \u001b[38;5;241m=\u001b[39m \u001b[43mapply_ontology_to_lap\u001b[49m\u001b[43m(\u001b[49m\u001b[43montologies\u001b[49m\u001b[43m,\u001b[49m\u001b[43m \u001b[49m\u001b[43mharmonized_lap\u001b[49m\u001b[43m,\u001b[49m\u001b[43m \u001b[49m\u001b[43mLLM\u001b[49m\u001b[43m)\u001b[49m\n",
      "File \u001b[0;32m~/Documents/Github/unit8-experimental/src/legacy/apply_ontology.py:70\u001b[0m, in \u001b[0;36mapply_ontology_to_lap\u001b[0;34m(ontology, lap, llm)\u001b[0m\n\u001b[1;32m     64\u001b[0m \u001b[38;5;28;01mdef\u001b[39;00m \u001b[38;5;21mapply_ontology_to_lap\u001b[39m(ontology, lap, llm):\n\u001b[1;32m     65\u001b[0m     harmonized_lap \u001b[38;5;241m=\u001b[39m llm\u001b[38;5;241m.\u001b[39mchat(\n\u001b[1;32m     66\u001b[0m         [\n\u001b[1;32m     67\u001b[0m             ChatMessage(role\u001b[38;5;241m=\u001b[39m\u001b[38;5;124m\"\u001b[39m\u001b[38;5;124msystem\u001b[39m\u001b[38;5;124m\"\u001b[39m, content\u001b[38;5;241m=\u001b[39mPROMPT \u001b[38;5;241m+\u001b[39m PROMPT_ONTOLOGY\u001b[38;5;241m.\u001b[39mformat(json\u001b[38;5;241m.\u001b[39mdumps(ontology)))\n\u001b[1;32m     68\u001b[0m         ] \u001b[38;5;241m+\u001b[39m EXAMPLE_1 \u001b[38;5;241m+\u001b[39m EXAMPLE_2 \u001b[38;5;241m+\u001b[39m [ChatMessage(role\u001b[38;5;241m=\u001b[39m\u001b[38;5;124m\"\u001b[39m\u001b[38;5;124muser\u001b[39m\u001b[38;5;124m\"\u001b[39m, content\u001b[38;5;241m=\u001b[39mjson\u001b[38;5;241m.\u001b[39mdumps(lap))]\n\u001b[1;32m     69\u001b[0m     )\u001b[38;5;241m.\u001b[39mmessage\u001b[38;5;241m.\u001b[39mcontent\n\u001b[0;32m---> 70\u001b[0m     harmonized_lap \u001b[38;5;241m=\u001b[39m \u001b[43mjson\u001b[49m\u001b[38;5;241;43m.\u001b[39;49m\u001b[43mloads\u001b[49m\u001b[43m(\u001b[49m\u001b[43mharmonized_lap\u001b[49m\u001b[43m)\u001b[49m\n\u001b[1;32m     72\u001b[0m     \u001b[38;5;28;01mreturn\u001b[39;00m harmonized_lap\n",
      "File \u001b[0;32m~/miniconda3/envs/unit8-experimental/lib/python3.10/json/__init__.py:346\u001b[0m, in \u001b[0;36mloads\u001b[0;34m(s, cls, object_hook, parse_float, parse_int, parse_constant, object_pairs_hook, **kw)\u001b[0m\n\u001b[1;32m    341\u001b[0m     s \u001b[38;5;241m=\u001b[39m s\u001b[38;5;241m.\u001b[39mdecode(detect_encoding(s), \u001b[38;5;124m'\u001b[39m\u001b[38;5;124msurrogatepass\u001b[39m\u001b[38;5;124m'\u001b[39m)\n\u001b[1;32m    343\u001b[0m \u001b[38;5;28;01mif\u001b[39;00m (\u001b[38;5;28mcls\u001b[39m \u001b[38;5;129;01mis\u001b[39;00m \u001b[38;5;28;01mNone\u001b[39;00m \u001b[38;5;129;01mand\u001b[39;00m object_hook \u001b[38;5;129;01mis\u001b[39;00m \u001b[38;5;28;01mNone\u001b[39;00m \u001b[38;5;129;01mand\u001b[39;00m\n\u001b[1;32m    344\u001b[0m         parse_int \u001b[38;5;129;01mis\u001b[39;00m \u001b[38;5;28;01mNone\u001b[39;00m \u001b[38;5;129;01mand\u001b[39;00m parse_float \u001b[38;5;129;01mis\u001b[39;00m \u001b[38;5;28;01mNone\u001b[39;00m \u001b[38;5;129;01mand\u001b[39;00m\n\u001b[1;32m    345\u001b[0m         parse_constant \u001b[38;5;129;01mis\u001b[39;00m \u001b[38;5;28;01mNone\u001b[39;00m \u001b[38;5;129;01mand\u001b[39;00m object_pairs_hook \u001b[38;5;129;01mis\u001b[39;00m \u001b[38;5;28;01mNone\u001b[39;00m \u001b[38;5;129;01mand\u001b[39;00m \u001b[38;5;129;01mnot\u001b[39;00m kw):\n\u001b[0;32m--> 346\u001b[0m     \u001b[38;5;28;01mreturn\u001b[39;00m \u001b[43m_default_decoder\u001b[49m\u001b[38;5;241;43m.\u001b[39;49m\u001b[43mdecode\u001b[49m\u001b[43m(\u001b[49m\u001b[43ms\u001b[49m\u001b[43m)\u001b[49m\n\u001b[1;32m    347\u001b[0m \u001b[38;5;28;01mif\u001b[39;00m \u001b[38;5;28mcls\u001b[39m \u001b[38;5;129;01mis\u001b[39;00m \u001b[38;5;28;01mNone\u001b[39;00m:\n\u001b[1;32m    348\u001b[0m     \u001b[38;5;28mcls\u001b[39m \u001b[38;5;241m=\u001b[39m JSONDecoder\n",
      "File \u001b[0;32m~/miniconda3/envs/unit8-experimental/lib/python3.10/json/decoder.py:337\u001b[0m, in \u001b[0;36mJSONDecoder.decode\u001b[0;34m(self, s, _w)\u001b[0m\n\u001b[1;32m    332\u001b[0m \u001b[38;5;28;01mdef\u001b[39;00m \u001b[38;5;21mdecode\u001b[39m(\u001b[38;5;28mself\u001b[39m, s, _w\u001b[38;5;241m=\u001b[39mWHITESPACE\u001b[38;5;241m.\u001b[39mmatch):\n\u001b[1;32m    333\u001b[0m \u001b[38;5;250m    \u001b[39m\u001b[38;5;124;03m\"\"\"Return the Python representation of ``s`` (a ``str`` instance\u001b[39;00m\n\u001b[1;32m    334\u001b[0m \u001b[38;5;124;03m    containing a JSON document).\u001b[39;00m\n\u001b[1;32m    335\u001b[0m \n\u001b[1;32m    336\u001b[0m \u001b[38;5;124;03m    \"\"\"\u001b[39;00m\n\u001b[0;32m--> 337\u001b[0m     obj, end \u001b[38;5;241m=\u001b[39m \u001b[38;5;28;43mself\u001b[39;49m\u001b[38;5;241;43m.\u001b[39;49m\u001b[43mraw_decode\u001b[49m\u001b[43m(\u001b[49m\u001b[43ms\u001b[49m\u001b[43m,\u001b[49m\u001b[43m \u001b[49m\u001b[43midx\u001b[49m\u001b[38;5;241;43m=\u001b[39;49m\u001b[43m_w\u001b[49m\u001b[43m(\u001b[49m\u001b[43ms\u001b[49m\u001b[43m,\u001b[49m\u001b[43m \u001b[49m\u001b[38;5;241;43m0\u001b[39;49m\u001b[43m)\u001b[49m\u001b[38;5;241;43m.\u001b[39;49m\u001b[43mend\u001b[49m\u001b[43m(\u001b[49m\u001b[43m)\u001b[49m\u001b[43m)\u001b[49m\n\u001b[1;32m    338\u001b[0m     end \u001b[38;5;241m=\u001b[39m _w(s, end)\u001b[38;5;241m.\u001b[39mend()\n\u001b[1;32m    339\u001b[0m     \u001b[38;5;28;01mif\u001b[39;00m end \u001b[38;5;241m!=\u001b[39m \u001b[38;5;28mlen\u001b[39m(s):\n",
      "File \u001b[0;32m~/miniconda3/envs/unit8-experimental/lib/python3.10/json/decoder.py:355\u001b[0m, in \u001b[0;36mJSONDecoder.raw_decode\u001b[0;34m(self, s, idx)\u001b[0m\n\u001b[1;32m    353\u001b[0m     obj, end \u001b[38;5;241m=\u001b[39m \u001b[38;5;28mself\u001b[39m\u001b[38;5;241m.\u001b[39mscan_once(s, idx)\n\u001b[1;32m    354\u001b[0m \u001b[38;5;28;01mexcept\u001b[39;00m \u001b[38;5;167;01mStopIteration\u001b[39;00m \u001b[38;5;28;01mas\u001b[39;00m err:\n\u001b[0;32m--> 355\u001b[0m     \u001b[38;5;28;01mraise\u001b[39;00m JSONDecodeError(\u001b[38;5;124m\"\u001b[39m\u001b[38;5;124mExpecting value\u001b[39m\u001b[38;5;124m\"\u001b[39m, s, err\u001b[38;5;241m.\u001b[39mvalue) \u001b[38;5;28;01mfrom\u001b[39;00m \u001b[38;5;28;01mNone\u001b[39;00m\n\u001b[1;32m    356\u001b[0m \u001b[38;5;28;01mreturn\u001b[39;00m obj, end\n",
      "\u001b[0;31mJSONDecodeError\u001b[0m: Expecting value: line 1 column 1 (char 0)"
     ]
    }
   ],
   "source": [
    "harmonized_lap_with_ontology = apply_ontology_to_lap(ontologies, harmonized_lap, LLM)"
   ]
  },
  {
   "cell_type": "code",
   "execution_count": null,
   "id": "9f6cd48e-1279-4199-b7b0-a159975f0241",
   "metadata": {},
   "outputs": [],
   "source": [
    "lap_json = convert_lap_to_json(harmonized_lap_with_ontology, LLM)"
   ]
  },
  {
   "cell_type": "code",
   "execution_count": 36,
   "id": "16739c93-62e4-4592-9b9d-3fb582b69b69",
   "metadata": {},
   "outputs": [
    {
     "data": {
      "text/plain": [
       "\"Why don't scientists trust atoms? Because they make up everything!\""
      ]
     },
     "execution_count": 36,
     "metadata": {},
     "output_type": "execute_result"
    }
   ],
   "source": [
    "\n",
    "from src.legacy.llm import LLM\n",
    "from llama_index.llms import ChatMessage\n",
    "LLM.chat([ChatMessage(role=\"system\", content=\"your a joker\"), ChatMessage(role=\"user\", content=\"tell me a joke\")]).message.content"
   ]
  },
  {
   "cell_type": "code",
   "execution_count": null,
   "id": "2c53a8ec-248d-402e-82c3-df8f3d6e0f19",
   "metadata": {},
   "outputs": [],
   "source": []
  }
 ],
 "metadata": {
  "kernelspec": {
   "display_name": "Python 3 (ipykernel)",
   "language": "python",
   "name": "python3"
  },
  "language_info": {
   "codemirror_mode": {
    "name": "ipython",
    "version": 3
   },
   "file_extension": ".py",
   "mimetype": "text/x-python",
   "name": "python",
   "nbconvert_exporter": "python",
   "pygments_lexer": "ipython3",
   "version": "3.10.13"
  }
 },
 "nbformat": 4,
 "nbformat_minor": 5
}
