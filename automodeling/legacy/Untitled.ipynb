{
 "cells": [
  {
   "cell_type": "code",
   "execution_count": 4,
   "id": "cc250f71-355b-4fc6-a13c-f80e6e7af3c3",
   "metadata": {},
   "outputs": [
    {
     "name": "stdout",
     "output_type": "stream",
     "text": [
      "Collecting pypdf\n",
      "  Downloading pypdf-3.17.0-py3-none-any.whl.metadata (7.5 kB)\n",
      "Requirement already satisfied: langchain in /Users/yassirbenkhedda/miniconda3/envs/unit8-experimental/lib/python3.10/site-packages (0.0.317)\n",
      "Requirement already satisfied: PyYAML>=5.3 in /Users/yassirbenkhedda/miniconda3/envs/unit8-experimental/lib/python3.10/site-packages (from langchain) (6.0.1)\n",
      "Requirement already satisfied: SQLAlchemy<3,>=1.4 in /Users/yassirbenkhedda/miniconda3/envs/unit8-experimental/lib/python3.10/site-packages (from langchain) (2.0.22)\n",
      "Requirement already satisfied: aiohttp<4.0.0,>=3.8.3 in /Users/yassirbenkhedda/miniconda3/envs/unit8-experimental/lib/python3.10/site-packages (from langchain) (3.8.6)\n",
      "Requirement already satisfied: anyio<4.0 in /Users/yassirbenkhedda/miniconda3/envs/unit8-experimental/lib/python3.10/site-packages (from langchain) (3.7.1)\n",
      "Requirement already satisfied: async-timeout<5.0.0,>=4.0.0 in /Users/yassirbenkhedda/miniconda3/envs/unit8-experimental/lib/python3.10/site-packages (from langchain) (4.0.3)\n",
      "Requirement already satisfied: dataclasses-json<0.7,>=0.5.7 in /Users/yassirbenkhedda/miniconda3/envs/unit8-experimental/lib/python3.10/site-packages (from langchain) (0.5.14)\n",
      "Requirement already satisfied: jsonpatch<2.0,>=1.33 in /Users/yassirbenkhedda/miniconda3/envs/unit8-experimental/lib/python3.10/site-packages (from langchain) (1.33)\n",
      "Requirement already satisfied: langsmith<0.1.0,>=0.0.43 in /Users/yassirbenkhedda/miniconda3/envs/unit8-experimental/lib/python3.10/site-packages (from langchain) (0.0.52)\n",
      "Requirement already satisfied: numpy<2,>=1 in /Users/yassirbenkhedda/miniconda3/envs/unit8-experimental/lib/python3.10/site-packages (from langchain) (1.26.1)\n",
      "Requirement already satisfied: pydantic<3,>=1 in /Users/yassirbenkhedda/miniconda3/envs/unit8-experimental/lib/python3.10/site-packages (from langchain) (1.10.13)\n",
      "Requirement already satisfied: requests<3,>=2 in /Users/yassirbenkhedda/miniconda3/envs/unit8-experimental/lib/python3.10/site-packages (from langchain) (2.31.0)\n",
      "Requirement already satisfied: tenacity<9.0.0,>=8.1.0 in /Users/yassirbenkhedda/miniconda3/envs/unit8-experimental/lib/python3.10/site-packages (from langchain) (8.2.3)\n",
      "Requirement already satisfied: attrs>=17.3.0 in /Users/yassirbenkhedda/miniconda3/envs/unit8-experimental/lib/python3.10/site-packages (from aiohttp<4.0.0,>=3.8.3->langchain) (23.1.0)\n",
      "Requirement already satisfied: charset-normalizer<4.0,>=2.0 in /Users/yassirbenkhedda/miniconda3/envs/unit8-experimental/lib/python3.10/site-packages (from aiohttp<4.0.0,>=3.8.3->langchain) (3.3.1)\n",
      "Requirement already satisfied: multidict<7.0,>=4.5 in /Users/yassirbenkhedda/miniconda3/envs/unit8-experimental/lib/python3.10/site-packages (from aiohttp<4.0.0,>=3.8.3->langchain) (6.0.4)\n",
      "Requirement already satisfied: yarl<2.0,>=1.0 in /Users/yassirbenkhedda/miniconda3/envs/unit8-experimental/lib/python3.10/site-packages (from aiohttp<4.0.0,>=3.8.3->langchain) (1.9.2)\n",
      "Requirement already satisfied: frozenlist>=1.1.1 in /Users/yassirbenkhedda/miniconda3/envs/unit8-experimental/lib/python3.10/site-packages (from aiohttp<4.0.0,>=3.8.3->langchain) (1.4.0)\n",
      "Requirement already satisfied: aiosignal>=1.1.2 in /Users/yassirbenkhedda/miniconda3/envs/unit8-experimental/lib/python3.10/site-packages (from aiohttp<4.0.0,>=3.8.3->langchain) (1.3.1)\n",
      "Requirement already satisfied: idna>=2.8 in /Users/yassirbenkhedda/miniconda3/envs/unit8-experimental/lib/python3.10/site-packages (from anyio<4.0->langchain) (3.4)\n",
      "Requirement already satisfied: sniffio>=1.1 in /Users/yassirbenkhedda/miniconda3/envs/unit8-experimental/lib/python3.10/site-packages (from anyio<4.0->langchain) (1.3.0)\n",
      "Requirement already satisfied: exceptiongroup in /Users/yassirbenkhedda/miniconda3/envs/unit8-experimental/lib/python3.10/site-packages (from anyio<4.0->langchain) (1.1.3)\n",
      "Requirement already satisfied: marshmallow<4.0.0,>=3.18.0 in /Users/yassirbenkhedda/miniconda3/envs/unit8-experimental/lib/python3.10/site-packages (from dataclasses-json<0.7,>=0.5.7->langchain) (3.20.1)\n",
      "Requirement already satisfied: typing-inspect<1,>=0.4.0 in /Users/yassirbenkhedda/miniconda3/envs/unit8-experimental/lib/python3.10/site-packages (from dataclasses-json<0.7,>=0.5.7->langchain) (0.9.0)\n",
      "Requirement already satisfied: jsonpointer>=1.9 in /Users/yassirbenkhedda/miniconda3/envs/unit8-experimental/lib/python3.10/site-packages (from jsonpatch<2.0,>=1.33->langchain) (2.4)\n",
      "Requirement already satisfied: typing-extensions>=4.2.0 in /Users/yassirbenkhedda/miniconda3/envs/unit8-experimental/lib/python3.10/site-packages (from pydantic<3,>=1->langchain) (4.8.0)\n",
      "Requirement already satisfied: urllib3<3,>=1.21.1 in /Users/yassirbenkhedda/miniconda3/envs/unit8-experimental/lib/python3.10/site-packages (from requests<3,>=2->langchain) (1.26.18)\n",
      "Requirement already satisfied: certifi>=2017.4.17 in /Users/yassirbenkhedda/miniconda3/envs/unit8-experimental/lib/python3.10/site-packages (from requests<3,>=2->langchain) (2023.7.22)\n",
      "Requirement already satisfied: packaging>=17.0 in /Users/yassirbenkhedda/miniconda3/envs/unit8-experimental/lib/python3.10/site-packages (from marshmallow<4.0.0,>=3.18.0->dataclasses-json<0.7,>=0.5.7->langchain) (23.2)\n",
      "Requirement already satisfied: mypy-extensions>=0.3.0 in /Users/yassirbenkhedda/miniconda3/envs/unit8-experimental/lib/python3.10/site-packages (from typing-inspect<1,>=0.4.0->dataclasses-json<0.7,>=0.5.7->langchain) (1.0.0)\n",
      "Downloading pypdf-3.17.0-py3-none-any.whl (277 kB)\n",
      "\u001b[2K   \u001b[38;2;114;156;31m━━━━━━━━━━━━━━━━━━━━━━━━━━━━━━━━━━━━━━━━\u001b[0m \u001b[32m277.4/277.4 kB\u001b[0m \u001b[31m5.8 MB/s\u001b[0m eta \u001b[36m0:00:00\u001b[0m MB/s\u001b[0m eta \u001b[36m0:00:01\u001b[0m\n",
      "\u001b[?25hInstalling collected packages: pypdf\n",
      "Successfully installed pypdf-3.17.0\n"
     ]
    }
   ],
   "source": [
    "!pip install pypdf langchain"
   ]
  },
  {
   "cell_type": "code",
   "execution_count": 27,
   "id": "125333f6-8a24-4eaf-ba3b-0a72b192edef",
   "metadata": {},
   "outputs": [
    {
     "ename": "ModuleNotFoundError",
     "evalue": "No module named 'syss'",
     "output_type": "error",
     "traceback": [
      "\u001b[0;31m---------------------------------------------------------------------------\u001b[0m",
      "\u001b[0;31mModuleNotFoundError\u001b[0m                       Traceback (most recent call last)",
      "Cell \u001b[0;32mIn[27], line 1\u001b[0m\n\u001b[0;32m----> 1\u001b[0m \u001b[38;5;28;01mimport\u001b[39;00m \u001b[38;5;21;01msyss\u001b[39;00m\n\u001b[1;32m      2\u001b[0m \u001b[38;5;28;01mfrom\u001b[39;00m \u001b[38;5;21;01msrc\u001b[39;00m\u001b[38;5;21;01m.\u001b[39;00m\u001b[38;5;21;01mlegacy\u001b[39;00m\u001b[38;5;21;01m.\u001b[39;00m\u001b[38;5;21;01mllm\u001b[39;00m \u001b[38;5;28;01mimport\u001b[39;00m LLM\n\u001b[1;32m      3\u001b[0m \u001b[38;5;28;01mfrom\u001b[39;00m \u001b[38;5;21;01mllama_index\u001b[39;00m\u001b[38;5;21;01m.\u001b[39;00m\u001b[38;5;21;01mllms\u001b[39;00m \u001b[38;5;28;01mimport\u001b[39;00m ChatMessage\n",
      "\u001b[0;31mModuleNotFoundError\u001b[0m: No module named 'syss'"
     ]
    }
   ],
   "source": []
  },
  {
   "cell_type": "code",
   "execution_count": 5,
   "id": "ecac4438-feb1-4ee8-9abe-048a067e7740",
   "metadata": {},
   "outputs": [],
   "source": [
    "\n",
    "from langchain.document_loaders import PyPDFLoader\n"
   ]
  },
  {
   "cell_type": "code",
   "execution_count": 17,
   "id": "354cd7f6-8e7f-4817-94f5-670dd35688cb",
   "metadata": {},
   "outputs": [],
   "source": [
    "def pdf_to_md(fpath):\n",
    "    loader = PyPDFLoader(fpath)\n",
    "    pages = loader.load_and_split()\n",
    "    return pages\n",
    "def _merge_pages(pages):\n",
    "    return \"\\n\".join([p.page_content for p in pages])"
   ]
  },
  {
   "cell_type": "code",
   "execution_count": 18,
   "id": "f66097f9-1e71-47e0-acb0-5950031a92f8",
   "metadata": {},
   "outputs": [],
   "source": [
    "pages = pdf_to_md(\"../../assets/pdf/aggMotorBreakdown.pdf\")"
   ]
  },
  {
   "cell_type": "code",
   "execution_count": 19,
   "id": "b8fa076d-d179-4204-9884-96cfa18d1f0d",
   "metadata": {},
   "outputs": [],
   "source": [
    "md = _merge_pages(pages)"
   ]
  },
  {
   "cell_type": "code",
   "execution_count": 23,
   "id": "c3c63862-14ba-4e49-859c-172fe0e6e184",
   "metadata": {},
   "outputs": [
    {
     "name": "stdout",
     "output_type": "stream",
     "text": [
      "1\n",
      "Motor Breakdown Insurance Policy & Summary\n",
      "Motor \n",
      "Breakdown \n",
      "Policy & \n",
      "Summary\n",
      "AXA Aggs & Direct Sep 21To make a claim call\n",
      "0345 504 6391\n",
      "2\n",
      "Motor Breakdown Insurance Policy & SummaryCONTENTS\n",
      "How to make a claim     Page\n",
      "A – Policy wording   3\n",
      " Breakdown Causes  9\n",
      " SECTION A – AXA LOCAL  10\n",
      " SECTION B – AXA NATIONWIDE  11\n",
      " SECTION C – AXA NATIONWIDE & HOMESTART  12\n",
      " SECTION A, B, C – MISFUELLING 13\n",
      " SECTION D – AXA EUROPEAN  14\n",
      " SECTION E –  GENERAL EXCLUSIONS THAT APPLY TO ALL PARTS  18 \n",
      "OF THIS POLICY\n",
      " SECTION F –  GENERAL CONDITIONS APPLYING TO ALL PARTS  21 \n",
      "OF THIS POLICY\n",
      "B – Policy summary   28\n",
      "AXA BREAKDOWN COVER POLICY SUMMARY  28\n",
      "For 24 hour emergency breakdown assistance contact AXA Assistance on:\n",
      "0345 504 6391\n",
      "For assistance in Europe call:\n",
      "+44 (0) 01737 815 372\n",
      "When dialling from outside the UK add 44 then omit the 0\n",
      "When dialling within the UK omit the 44\n",
      "3\n",
      "Motor Breakdown Insurance Policy & SummaryA – Policy wording\n",
      "STATUS\n",
      "This policy is provided by AXA \n",
      "Assistance (UK) Ltd. AXA Assistance \n",
      "(UK) Limited is authorised and \n",
      "regulated by the Financial Conduct \n",
      "Authority. AXA Assistance (UK) \n",
      "Limited’s firm register number \n",
      "is 439069. You can check this on \n",
      "the Financial Services Register by \n",
      "visiting the website www.fca.org.\n",
      "uk/register. Its registered office is \n",
      "at The Quadrangle, 106-118 Station \n",
      "Road, Redhill, Surrey, RH1 1PR. \n",
      "It is registered in England under \n",
      "company number 02638890. \n",
      "This policy is underwritten by Inter \n",
      "Partner Assistance S.A. UK Branch, \n",
      "with a registered office at 106-118 \n",
      "Station Road, Redhill, RH1 1PR. Inter \n",
      "Partner Assistance S.A. UK Branch is \n",
      "a Branch of Inter Partner Assistance \n",
      "S.A. (Financial Conduct Authority \n",
      "registration number 202664), which \n",
      "is a Belgian firm authorised by the \n",
      "National Bank of Belgium under \n",
      "number 0487, with a registered head \n",
      "office at Louizalaan 166, 1050 Brussels. \n",
      "Deemed authorised by the Prudential \n",
      "Regulation Authority. Subject to \n",
      "regulation by the Financial Conduct \n",
      "Authority and limited\n"
     ]
    }
   ],
   "source": [
    "print(md[:2000])"
   ]
  },
  {
   "cell_type": "code",
   "execution_count": null,
   "id": "effcc670-0f43-486b-ace1-ecf7492bf565",
   "metadata": {},
   "outputs": [],
   "source": []
  }
 ],
 "metadata": {
  "kernelspec": {
   "display_name": "Python 3 (ipykernel)",
   "language": "python",
   "name": "python3"
  },
  "language_info": {
   "codemirror_mode": {
    "name": "ipython",
    "version": 3
   },
   "file_extension": ".py",
   "mimetype": "text/x-python",
   "name": "python",
   "nbconvert_exporter": "python",
   "pygments_lexer": "ipython3",
   "version": "3.10.13"
  }
 },
 "nbformat": 4,
 "nbformat_minor": 5
}
