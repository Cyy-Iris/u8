{
 "cells": [
  {
   "cell_type": "code",
   "execution_count": 1,
   "metadata": {},
   "outputs": [],
   "source": [
    "import os\n",
    "from llmsherpa.readers import LayoutPDFReader\n",
    "from markdownify import markdownify\n",
    "\n",
    "llmsherpa_api_url = \"https://readers.llmsherpa.com/api/document/developer/parseDocument?renderFormat=all\"\n",
    "pdf_reader = LayoutPDFReader(llmsherpa_api_url)"
   ]
  },
  {
   "cell_type": "code",
   "execution_count": 4,
   "metadata": {},
   "outputs": [
    {
     "name": "stdout",
     "output_type": "stream",
     "text": [
      "AXAStradaFR.md already exists. Skipping.\n",
      "testPage.md already exists. Skipping.\n",
      "aggMotorBreakdown2.md already exists. Skipping.\n",
      "aggMotorBreakdown.md already exists. Skipping.\n",
      "Converting AXAFRMonAuto.pdf\n",
      "ERROR: 'result'\n",
      "4collumnWithTable.md already exists. Skipping.\n",
      "AXAStradaEN.md already exists. Skipping.\n",
      "motor_uk.md already exists. Skipping.\n",
      "Converting onepageFR.pdf\n",
      "Finished converting onepageFR.pdf\n",
      "Converting travel.pdf\n",
      "Finished converting travel.pdf\n",
      "Converting AXAStradaIT.pdf\n",
      "Finished converting AXAStradaIT.pdf\n",
      "Converting AXAStradaDE.pdf\n",
      "Finished converting AXAStradaDE.pdf\n",
      "Converting wedding_policy2.pdf\n",
      "Finished converting wedding_policy2.pdf\n",
      "Converting wedding_policy_3.pdf\n",
      "Finished converting wedding_policy_3.pdf\n",
      "Converting wedding_policy.pdf\n",
      "Finished converting wedding_policy.pdf\n",
      "Converting chubbTravel.pdf\n",
      "Finished converting chubbTravel.pdf\n"
     ]
    }
   ],
   "source": [
    "source_folder = \"../../assets/pdf\"\n",
    "target_folder = \"../../assets/md\"\n",
    "\n",
    "for filename in os.listdir(source_folder):\n",
    "    new_name = os.path.splitext(filename)[0] + \".md\"\n",
    "\n",
    "    if os.path.exists(os.path.join(target_folder, new_name)):\n",
    "        print(f\"{new_name} already exists. Skipping.\")\n",
    "        continue\n",
    "\n",
    "    print(f\"Converting {filename}\")\n",
    "\n",
    "    try:\n",
    "        pdf_url = os.path.join(source_folder, filename)\n",
    "        doc = pdf_reader.read_pdf(pdf_url)\n",
    "    except Exception as e:\n",
    "        print(f\"ERROR: {e}\")\n",
    "        continue\n",
    "\n",
    "    output = []\n",
    "\n",
    "    for section in doc.sections():\n",
    "        section_md = markdownify(section.to_html(include_children=True, recurse=True), heading_style=\"ATX\")\n",
    "        output.append(section_md)\n",
    "    \n",
    "    with open(os.path.join(target_folder, new_name), \"w\") as outfile:\n",
    "        outfile.write(\"\\n\".join(output))\n",
    "    \n",
    "    print(f\"Finished converting {filename}\")\n",
    "\n"
   ]
  },
  {
   "cell_type": "markdown",
   "metadata": {},
   "source": []
  }
 ],
 "metadata": {
  "kernelspec": {
   "display_name": "Python 3",
   "language": "python",
   "name": "python3"
  },
  "language_info": {
   "codemirror_mode": {
    "name": "ipython",
    "version": 3
   },
   "file_extension": ".py",
   "mimetype": "text/x-python",
   "name": "python",
   "nbconvert_exporter": "python",
   "pygments_lexer": "ipython3",
   "version": "3.11.5"
  },
  "orig_nbformat": 4
 },
 "nbformat": 4,
 "nbformat_minor": 2
}
