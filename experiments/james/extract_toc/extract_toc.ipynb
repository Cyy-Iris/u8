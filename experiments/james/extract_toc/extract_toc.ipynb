{
 "cells": [
  {
   "cell_type": "code",
   "execution_count": 2,
   "metadata": {},
   "outputs": [],
   "source": [
    "import os\n"
   ]
  },
  {
   "cell_type": "code",
   "execution_count": 6,
   "metadata": {},
   "outputs": [
    {
     "name": "stdout",
     "output_type": "stream",
     "text": [
      "Extracting ToC from AXAStradaIT.md\n",
      "Finished converting AXAStradaIT.md\n",
      "AXAStradaEN/toc.md already exists. Skipping.\n",
      "Extracting ToC from wedding_policy.md\n",
      "Finished converting wedding_policy.md\n",
      "AXAStradaFR/toc.md already exists. Skipping.\n",
      "Extracting ToC from AXAStradaDE.md\n",
      "Finished converting AXAStradaDE.md\n",
      "testPage/toc.md already exists. Skipping.\n",
      "4collumnWithTable/toc.md already exists. Skipping.\n",
      "Extracting ToC from wedding_policy2.md\n",
      "Finished converting wedding_policy2.md\n",
      "Extracting ToC from travel.md\n",
      "Finished converting travel.md\n",
      "Extracting ToC from onepageFR.md\n",
      "Finished converting onepageFR.md\n",
      "aggMotorBreakdown2/toc.md already exists. Skipping.\n",
      "Extracting ToC from chubbTravel.md\n",
      "Finished converting chubbTravel.md\n",
      "motor_uk/toc.md already exists. Skipping.\n",
      "aggMotorBreakdown/toc.md already exists. Skipping.\n",
      "Extracting ToC from wedding_policy_3.md\n",
      "Finished converting wedding_policy_3.md\n"
     ]
    }
   ],
   "source": [
    "source_folder = \"../../../assets/md\"\n",
    "target_folder = \"./\"\n",
    "\n",
    "for filename in os.listdir(source_folder):\n",
    "    os.makedirs(os.path.splitext(filename)[0], exist_ok=True)\n",
    "\n",
    "    new_name = os.path.splitext(filename)[0] + \"/toc.md\"\n",
    "\n",
    "    if os.path.exists(os.path.join(target_folder, new_name)):\n",
    "        print(f\"{new_name} already exists. Skipping.\")\n",
    "        continue\n",
    "\n",
    "    print(f\"Extracting ToC from {filename}\")\n",
    "\n",
    "    toc = []\n",
    "\n",
    "    with open(os.path.join(source_folder, filename), \"r\") as infile:\n",
    "        lines = infile.readlines()\n",
    "        for line in lines:\n",
    "            if line.startswith(\"#\"):\n",
    "                toc.append(line)\n",
    "    \n",
    "    with open(os.path.join(target_folder, new_name), \"w\") as outfile:\n",
    "        outfile.write(\"\".join(toc))\n",
    "    \n",
    "    print(f\"Finished converting {filename}\")\n",
    "\n"
   ]
  }
 ],
 "metadata": {
  "kernelspec": {
   "display_name": "Python 3",
   "language": "python",
   "name": "python3"
  },
  "language_info": {
   "codemirror_mode": {
    "name": "ipython",
    "version": 3
   },
   "file_extension": ".py",
   "mimetype": "text/x-python",
   "name": "python",
   "nbconvert_exporter": "python",
   "pygments_lexer": "ipython3",
   "version": "3.11.5"
  },
  "orig_nbformat": 4
 },
 "nbformat": 4,
 "nbformat_minor": 2
}
